{
 "cells": [
  {
   "cell_type": "code",
   "execution_count": 118,
   "metadata": {},
   "outputs": [],
   "source": [
    "start_date='2019.11.01'\n",
    "end_date='2019.11.05'\n"
   ]
  },
  {
   "cell_type": "code",
   "execution_count": 124,
   "metadata": {},
   "outputs": [],
   "source": [
    "#неверно прочитанное задание, но в процессе реализации стало интересно и решил оставить для себя)\n",
    "#выводит кол дней в указанном интервале\n"
   ]
  },
  {
   "cell_type": "code",
   "execution_count": 119,
   "metadata": {},
   "outputs": [],
   "source": [
    "def date_range2(a,b):\n",
    "    r=(datetime.strptime(b, '%Y.%m.%d')-datetime.strptime(a, '%Y.%m.%d'))\n",
    "    #r=r.strftime('%d')\n",
    "    return r.days+1\n"
   ]
  },
  {
   "cell_type": "code",
   "execution_count": 126,
   "metadata": {},
   "outputs": [
    {
     "data": {
      "text/plain": [
       "5"
      ]
     },
     "execution_count": 126,
     "metadata": {},
     "output_type": "execute_result"
    }
   ],
   "source": [
    "from datetime import datetime\n",
    "from datetime import timedelta\n",
    "\n",
    "date_range2(start_date,end_date)"
   ]
  },
  {
   "cell_type": "code",
   "execution_count": null,
   "metadata": {},
   "outputs": [],
   "source": [
    "#задача 1-2"
   ]
  },
  {
   "cell_type": "code",
   "execution_count": 133,
   "metadata": {},
   "outputs": [],
   "source": [
    "def date_range(a,b):\n",
    "    \n",
    "    ll_=[]\n",
    "    try:\n",
    "        if datetime.strptime(start_date, '%Y.%m.%d')>datetime.strptime(end_date, '%Y.%m.%d'):\n",
    "            return ll_\n",
    "    except ValueError:\n",
    "        return ll_\n",
    "    finally:\n",
    "        None\n",
    "        \n",
    "    bb=datetime.strptime(a, '%Y.%m.%d')\n",
    "    while bb<=datetime.strptime(b, '%Y.%m.%d'):\n",
    "        \n",
    "        ll_.append(bb.strftime('%Y-%m-%d'))\n",
    "        bb+=timedelta(days=1)\n",
    "       \n",
    "        \n",
    "    \n",
    "    \n",
    "    \n",
    "    return ll_"
   ]
  },
  {
   "cell_type": "code",
   "execution_count": 134,
   "metadata": {},
   "outputs": [
    {
     "data": {
      "text/plain": [
       "['2019-11-01', '2019-11-02', '2019-11-03', '2019-11-04', '2019-11-05']"
      ]
     },
     "execution_count": 134,
     "metadata": {},
     "output_type": "execute_result"
    }
   ],
   "source": [
    "date_range(start_date,end_date)"
   ]
  },
  {
   "cell_type": "code",
   "execution_count": 127,
   "metadata": {},
   "outputs": [],
   "source": [
    "#задача 3"
   ]
  },
  {
   "cell_type": "code",
   "execution_count": 136,
   "metadata": {},
   "outputs": [],
   "source": [
    "stream=['2018.04.02','2018.02.29','2018.19.02']"
   ]
  },
  {
   "cell_type": "code",
   "execution_count": 139,
   "metadata": {},
   "outputs": [],
   "source": [
    "def korr(a):\n",
    "    for d in a:\n",
    "        try:\n",
    "            datetime.strptime(d,'%Y.%m.%d')\n",
    "            print(d, True)\n",
    "        except:\n",
    "             print(d, False)\n",
    "    return\n",
    "\n"
   ]
  },
  {
   "cell_type": "code",
   "execution_count": 140,
   "metadata": {},
   "outputs": [
    {
     "name": "stdout",
     "output_type": "stream",
     "text": [
      "2018.04.02 True\n",
      "2018.02.29 False\n",
      "2018.19.02 False\n"
     ]
    }
   ],
   "source": [
    "korr(stream)"
   ]
  },
  {
   "cell_type": "code",
   "execution_count": null,
   "metadata": {},
   "outputs": [],
   "source": []
  }
 ],
 "metadata": {
  "kernelspec": {
   "display_name": "Python 3",
   "language": "python",
   "name": "python3"
  },
  "language_info": {
   "codemirror_mode": {
    "name": "ipython",
    "version": 3
   },
   "file_extension": ".py",
   "mimetype": "text/x-python",
   "name": "python",
   "nbconvert_exporter": "python",
   "pygments_lexer": "ipython3",
   "version": "3.7.3"
  }
 },
 "nbformat": 4,
 "nbformat_minor": 2
}
